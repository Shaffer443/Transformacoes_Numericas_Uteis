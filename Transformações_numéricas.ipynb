{
  "nbformat": 4,
  "nbformat_minor": 0,
  "metadata": {
    "colab": {
      "provenance": [],
      "authorship_tag": "ABX9TyNpC/h/yR9/SjWLZoYTKkFr",
      "include_colab_link": true
    },
    "kernelspec": {
      "name": "python3",
      "display_name": "Python 3"
    },
    "language_info": {
      "name": "python"
    }
  },
  "cells": [
    {
      "cell_type": "markdown",
      "metadata": {
        "id": "view-in-github",
        "colab_type": "text"
      },
      "source": [
        "<a href=\"https://colab.research.google.com/github/Shaffer443/Transformacoes_Numericas_Uteis/blob/coolab/Transforma%C3%A7%C3%B5es_num%C3%A9ricas.ipynb\" target=\"_parent\"><img src=\"https://colab.research.google.com/assets/colab-badge.svg\" alt=\"Open In Colab\"/></a>"
      ]
    },
    {
      "cell_type": "markdown",
      "source": [
        "# Transformações numéricas uteis:\n",
        "\n",
        "- Binário para Inteiros\n",
        "- Inteiros para Binários"
      ],
      "metadata": {
        "id": "rPuR8eK8CM9V"
      }
    },
    {
      "cell_type": "code",
      "execution_count": null,
      "metadata": {
        "id": "gdIO9-H_CC5X"
      },
      "outputs": [],
      "source": [
        "# Numeros binários para inteiros\n",
        "\n",
        "nBinario = int(input(f\"Digite o valor binário: \"))\n",
        "n= len(str(nBinario)) # Contando o numero de caracteres em str.\n",
        "decimal = 0\n",
        "i = 0\n",
        "\n",
        "while n >= 0:\n",
        "  resto = nBinario % 10\n",
        "  decimal += resto*(2**i)\n",
        "  n -= 1\n",
        "  i += 1\n",
        "  nBinario = nBinario // 10\n",
        "\n",
        "print(f\"Valor binário {nBinario} - Seu valor em decimal {decimal} \")"
      ]
    },
    {
      "cell_type": "code",
      "source": [
        "# Inteiros para binários\n",
        "\n",
        "nInteiro = int(input(f\"Digite o valor inteiro: \"))\n",
        "\n",
        "numero_digitado = nInteiro\n",
        "quociente = 1\n",
        "lista = []\n",
        "\n",
        "while quociente >=1:\n",
        "  resto = nInteiro % 2\n",
        "  lista.insert(0,resto)\n",
        "  quociente = nInteiro // 2\n",
        "  nInteiro = quociente\n",
        "\n",
        "binario = ''.join([str(item) for item in lista])\n",
        "print(numero_digitado, binario, sep=\" - \")\n",
        "\n",
        "\n",
        "def inteiroBinario(nInt):\n",
        "  return bin(nInt)\n",
        "\n",
        "print(inteiroBinario(nInteiro))\n",
        "\n",
        "\n",
        "\n",
        "\n",
        "#print(ord(b))\n",
        "\n",
        "# for c in nInteiro:\n",
        "#   v = ord(c)\n",
        "#   print(c,v,f'{v:b}', sep=\"\\t\")"
      ],
      "metadata": {
        "id": "xcAIDr7CCe_3"
      },
      "execution_count": null,
      "outputs": []
    }
  ]
}